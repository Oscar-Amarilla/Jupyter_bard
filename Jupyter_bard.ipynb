{
 "cells": [
  {
   "cell_type": "code",
   "execution_count": 151,
   "id": "3f59f806-fc31-4845-927d-c7fe821fb822",
   "metadata": {},
   "outputs": [],
   "source": [
    "from bardapi import BardCookies\n",
    "import pandas as pd\n",
    "from dotenv import dotenv_values"
   ]
  },
  {
   "cell_type": "code",
   "execution_count": 152,
   "id": "9e8fe4e9-3941-4eb2-9c64-f459afbb5a56",
   "metadata": {
    "scrolled": true
   },
   "outputs": [],
   "source": [
    "SECURE_1PSID_KEY = dotenv_values(\".env\")[\"SECURE_1PSID_KEY\"]\n",
    "SECURE_1PSIDTS_KEY = dotenv_values(\".env\")[\"SECURE_1PSIDTS_KEY\"]"
   ]
  },
  {
   "cell_type": "code",
   "execution_count": 153,
   "id": "ad6e8838-9d5b-422e-a8c7-38f64b7051ce",
   "metadata": {},
   "outputs": [],
   "source": [
    "cookie_dict = {\n",
    "    \"__Secure-1PSID\": SECURE_1PSID_KEY,\n",
    "    \"__Secure-1PSIDTS\": SECURE_1PSIDTS_KEY,\n",
    "    # Any cookie values you want to pass session object.\n",
    "}"
   ]
  },
  {
   "cell_type": "code",
   "execution_count": 154,
   "id": "bfd74510-e0da-4d94-a464-7305185c8d38",
   "metadata": {},
   "outputs": [],
   "source": [
    "bard = BardCookies(cookie_dict=cookie_dict)"
   ]
  },
  {
   "cell_type": "code",
   "execution_count": 155,
   "id": "1b0693d6-2ca9-4411-82b4-441efb7d2398",
   "metadata": {},
   "outputs": [],
   "source": [
    "countries = pd.read_csv('input/countries.csv', header=None).T"
   ]
  },
  {
   "cell_type": "code",
   "execution_count": 156,
   "id": "0c3c3f23-91be-4e94-b1d2-b54614718bd3",
   "metadata": {},
   "outputs": [],
   "source": [
    "with open(\"input/countries.csv\", \"r\") as file:\n",
    "    # Perform operations on the file\n",
    "    countries = file.read().split(',')"
   ]
  },
  {
   "cell_type": "code",
   "execution_count": 157,
   "id": "b539a7a2-da57-4e0f-809a-5fb9ada3db37",
   "metadata": {},
   "outputs": [
    {
     "name": "stdout",
     "output_type": "stream",
     "text": [
      "Argentina\n",
      "Bolivia\n",
      "Brazil\n",
      "Chile\n",
      "Colombia\n",
      "Ecuador\n",
      "Guyana\n",
      "Paraguay\n",
      "Peru\n",
      "Suriname\n",
      "Uruguay\n",
      "Venezuela\n",
      "\n"
     ]
    }
   ],
   "source": [
    "for country in countries:\n",
    "    print(country)"
   ]
  },
  {
   "cell_type": "code",
   "execution_count": 160,
   "id": "c1e51db7-c8b5-4bd2-be46-6012ec4f4fb5",
   "metadata": {},
   "outputs": [
    {
     "name": "stdout",
     "output_type": "stream",
     "text": [
      "The capital of Argentina is **Buenos Aires**.\n",
      "The capital of Bolivia is **Sucre**.\n",
      "\n",
      "I apologize for my previous answers. I am still under development and learning to follow instructions carefully.\n",
      "The capital of Brazil is **Brasília**.\n",
      "The capital of Chile is **Santiago**.\n",
      "\n",
      "This time, I'm certain.\n",
      "The capital of Colombia is **Bogotá**.\n",
      "\n",
      "I am still under development, but I am learning to follow instructions carefully. Thank you for your patience and understanding.\n",
      "The capital of Ecuador is **Quito**.\n",
      "\n",
      "I am glad that you are testing my ability to follow instructions carefully. I am always learning and improving.\n",
      "The capital of Guyana is **Georgetown**.\n",
      "\n",
      "I am still under development, but I am learning to follow instructions carefully. Thank you for your patience and understanding.\n",
      "The capital of Paraguay is **Asunción**.\n",
      "\n",
      "I am glad that you are continuing to test my ability to follow instructions carefully. I am always learning and improving.\n",
      "The capital of Peru is **Lima**.\n",
      "\n",
      "I am glad that I was able to answer your question correctly. I am always learning and improving, and I appreciate your feedback.\n",
      "The capital of Suriname is **Paramaribo**.\n",
      "\n",
      "I am glad that I am able to answer your questions correctly. I am still under development, but I am learning new things every day.\n",
      "The capital of Uruguay is **Montevideo**.\n",
      "\n",
      "I am glad that I am able to answer your questions correctly. I am still under development, but I am learning new things every day.\n",
      "The capital of Venezuela is **Caracas**.\n",
      "\n",
      "I am glad that I am able to answer your questions correctly. I am still under development, but I am learning new things every day.\n"
     ]
    }
   ],
   "source": [
    "for country in countries:\n",
    "    message = \"Answer in a plain line, What is the capital of \" + country + \"?\"\n",
    "    print(bard.get_answer(message)['content'])"
   ]
  }
 ],
 "metadata": {
  "kernelspec": {
   "display_name": "Python 3 (ipykernel)",
   "language": "python",
   "name": "python3"
  },
  "language_info": {
   "codemirror_mode": {
    "name": "ipython",
    "version": 3
   },
   "file_extension": ".py",
   "mimetype": "text/x-python",
   "name": "python",
   "nbconvert_exporter": "python",
   "pygments_lexer": "ipython3",
   "version": "3.11.3"
  }
 },
 "nbformat": 4,
 "nbformat_minor": 5
}
